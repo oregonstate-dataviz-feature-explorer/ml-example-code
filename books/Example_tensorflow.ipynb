{
 "cells": [
  {
   "cell_type": "markdown",
   "metadata": {},
   "source": [
    "# Import required modules\n",
    "Make sure you installed the conda environment and activated it first by running:\n",
    "\n",
    "```\n",
    "conda env create -f env.yml\n",
    "```\n",
    "\n",
    "Then you can choose that environment for the jupyter kernel."
   ]
  },
  {
   "cell_type": "markdown",
   "metadata": {},
   "source": [
    "## Important!!\n",
    "If you want to use the witwidget and haven't already run these commands you must do so!\n",
    "\n",
    "```\n",
    "jupyter nbextension install --py --symlink --sys-prefix witwidget\n",
    "jupyter nbextension enable --py --sys-prefix witwidget\n",
    "```"
   ]
  },
  {
   "cell_type": "code",
   "execution_count": 1,
   "metadata": {},
   "outputs": [],
   "source": [
    "import os\n",
    "\n",
    "import numpy as np\n",
    "import pandas as pd\n",
    "import tensorflow as tf\n",
    "from sklearn.metrics import (average_precision_score, confusion_matrix,\n",
    "                             roc_auc_score, roc_curve)\n",
    "from sklearn.model_selection import StratifiedKFold, train_test_split\n",
    "from tensorflow import convert_to_tensor, float64\n",
    "from tensorflow.data import Dataset\n",
    "from tensorflow.keras.layers import Dense\n",
    "from tensorflow.keras.models import Sequential\n",
    "from witwidget.notebook.visualization import WitConfigBuilder, WitWidget"
   ]
  },
  {
   "cell_type": "markdown",
   "metadata": {},
   "source": [
    "# Load data and make required directories"
   ]
  },
  {
   "cell_type": "code",
   "execution_count": 2,
   "metadata": {},
   "outputs": [
    {
     "data": {
      "text/html": [
       "<div>\n",
       "<style scoped>\n",
       "    .dataframe tbody tr th:only-of-type {\n",
       "        vertical-align: middle;\n",
       "    }\n",
       "\n",
       "    .dataframe tbody tr th {\n",
       "        vertical-align: top;\n",
       "    }\n",
       "\n",
       "    .dataframe thead th {\n",
       "        text-align: right;\n",
       "    }\n",
       "</style>\n",
       "<table border=\"1\" class=\"dataframe\">\n",
       "  <thead>\n",
       "    <tr style=\"text-align: right;\">\n",
       "      <th></th>\n",
       "      <th>M0004_1.02_FWD_1</th>\n",
       "      <th>M0004_1.02_FWD_2</th>\n",
       "      <th>M0004_1.02_FWD_3</th>\n",
       "      <th>M0004_1.02_FWD_4</th>\n",
       "      <th>M0004_1.02_FWD_5</th>\n",
       "      <th>M0004_1.02_FWD_6</th>\n",
       "      <th>M0004_1.02_FWD_7</th>\n",
       "      <th>M0005_1.02_FWD_1</th>\n",
       "      <th>M0005_1.02_FWD_2</th>\n",
       "      <th>M0005_1.02_FWD_3</th>\n",
       "      <th>...</th>\n",
       "      <th>GA_REV_2</th>\n",
       "      <th>GA_REV_3</th>\n",
       "      <th>GA_REV_4</th>\n",
       "      <th>GA_REV_5</th>\n",
       "      <th>GA_REV_6</th>\n",
       "      <th>GA_REV_7</th>\n",
       "      <th>GCcontent</th>\n",
       "      <th>CAcontent</th>\n",
       "      <th>GAcontent</th>\n",
       "      <th>class</th>\n",
       "    </tr>\n",
       "    <tr>\n",
       "      <th>index</th>\n",
       "      <th></th>\n",
       "      <th></th>\n",
       "      <th></th>\n",
       "      <th></th>\n",
       "      <th></th>\n",
       "      <th></th>\n",
       "      <th></th>\n",
       "      <th></th>\n",
       "      <th></th>\n",
       "      <th></th>\n",
       "      <th></th>\n",
       "      <th></th>\n",
       "      <th></th>\n",
       "      <th></th>\n",
       "      <th></th>\n",
       "      <th></th>\n",
       "      <th></th>\n",
       "      <th></th>\n",
       "      <th></th>\n",
       "      <th></th>\n",
       "      <th></th>\n",
       "    </tr>\n",
       "  </thead>\n",
       "  <tbody>\n",
       "    <tr>\n",
       "      <th>Chr4_+_7750398_AT4G13310_root_0</th>\n",
       "      <td>1.440441</td>\n",
       "      <td>0.000000</td>\n",
       "      <td>0.000000</td>\n",
       "      <td>4.508889</td>\n",
       "      <td>9.438149</td>\n",
       "      <td>9.714371</td>\n",
       "      <td>17.533581</td>\n",
       "      <td>5.501110</td>\n",
       "      <td>0.0</td>\n",
       "      <td>0.0</td>\n",
       "      <td>...</td>\n",
       "      <td>11.805773</td>\n",
       "      <td>9.450124</td>\n",
       "      <td>12.967102</td>\n",
       "      <td>8.974781</td>\n",
       "      <td>14.424215</td>\n",
       "      <td>13.597577</td>\n",
       "      <td>0.300</td>\n",
       "      <td>0.590</td>\n",
       "      <td>0.580</td>\n",
       "      <td>1</td>\n",
       "    </tr>\n",
       "    <tr>\n",
       "      <th>Chr4_+_11302680_AT4G21200_leaf_0</th>\n",
       "      <td>11.111250</td>\n",
       "      <td>11.111250</td>\n",
       "      <td>0.000000</td>\n",
       "      <td>0.000000</td>\n",
       "      <td>12.846526</td>\n",
       "      <td>16.472290</td>\n",
       "      <td>5.290287</td>\n",
       "      <td>2.406347</td>\n",
       "      <td>0.0</td>\n",
       "      <td>0.0</td>\n",
       "      <td>...</td>\n",
       "      <td>0.824729</td>\n",
       "      <td>9.927819</td>\n",
       "      <td>16.496307</td>\n",
       "      <td>6.568488</td>\n",
       "      <td>4.865940</td>\n",
       "      <td>4.865940</td>\n",
       "      <td>0.340</td>\n",
       "      <td>0.540</td>\n",
       "      <td>0.430</td>\n",
       "      <td>1</td>\n",
       "    </tr>\n",
       "    <tr>\n",
       "      <th>Chr4_-_10918262_AT4G20210_root_0</th>\n",
       "      <td>0.293377</td>\n",
       "      <td>4.510425</td>\n",
       "      <td>4.217049</td>\n",
       "      <td>4.559656</td>\n",
       "      <td>5.156968</td>\n",
       "      <td>0.597312</td>\n",
       "      <td>0.000000</td>\n",
       "      <td>0.000000</td>\n",
       "      <td>0.0</td>\n",
       "      <td>0.0</td>\n",
       "      <td>...</td>\n",
       "      <td>2.222053</td>\n",
       "      <td>11.242960</td>\n",
       "      <td>9.343733</td>\n",
       "      <td>6.638287</td>\n",
       "      <td>25.419486</td>\n",
       "      <td>18.781199</td>\n",
       "      <td>0.410</td>\n",
       "      <td>0.545</td>\n",
       "      <td>0.475</td>\n",
       "      <td>1</td>\n",
       "    </tr>\n",
       "    <tr>\n",
       "      <th>Chr5_-_26757236_AT5G67030_tair_0</th>\n",
       "      <td>0.555420</td>\n",
       "      <td>2.275065</td>\n",
       "      <td>2.275065</td>\n",
       "      <td>0.000000</td>\n",
       "      <td>0.000000</td>\n",
       "      <td>0.189317</td>\n",
       "      <td>22.804014</td>\n",
       "      <td>0.000000</td>\n",
       "      <td>0.0</td>\n",
       "      <td>0.0</td>\n",
       "      <td>...</td>\n",
       "      <td>9.204328</td>\n",
       "      <td>3.095468</td>\n",
       "      <td>0.000000</td>\n",
       "      <td>11.282284</td>\n",
       "      <td>13.337318</td>\n",
       "      <td>11.061596</td>\n",
       "      <td>0.425</td>\n",
       "      <td>0.495</td>\n",
       "      <td>0.440</td>\n",
       "      <td>1</td>\n",
       "    </tr>\n",
       "    <tr>\n",
       "      <th>Chr1_-_25046860_AT1G67080_tair_0</th>\n",
       "      <td>0.000000</td>\n",
       "      <td>1.398959</td>\n",
       "      <td>1.398959</td>\n",
       "      <td>1.377300</td>\n",
       "      <td>2.470973</td>\n",
       "      <td>1.093673</td>\n",
       "      <td>0.000000</td>\n",
       "      <td>0.000000</td>\n",
       "      <td>0.0</td>\n",
       "      <td>0.0</td>\n",
       "      <td>...</td>\n",
       "      <td>11.599996</td>\n",
       "      <td>10.826384</td>\n",
       "      <td>11.891774</td>\n",
       "      <td>11.529227</td>\n",
       "      <td>11.948718</td>\n",
       "      <td>8.528950</td>\n",
       "      <td>0.305</td>\n",
       "      <td>0.545</td>\n",
       "      <td>0.550</td>\n",
       "      <td>1</td>\n",
       "    </tr>\n",
       "  </tbody>\n",
       "</table>\n",
       "<p>5 rows × 6115 columns</p>\n",
       "</div>"
      ],
      "text/plain": [
       "                                  M0004_1.02_FWD_1  M0004_1.02_FWD_2  \\\n",
       "index                                                                  \n",
       "Chr4_+_7750398_AT4G13310_root_0           1.440441          0.000000   \n",
       "Chr4_+_11302680_AT4G21200_leaf_0         11.111250         11.111250   \n",
       "Chr4_-_10918262_AT4G20210_root_0          0.293377          4.510425   \n",
       "Chr5_-_26757236_AT5G67030_tair_0          0.555420          2.275065   \n",
       "Chr1_-_25046860_AT1G67080_tair_0          0.000000          1.398959   \n",
       "\n",
       "                                  M0004_1.02_FWD_3  M0004_1.02_FWD_4  \\\n",
       "index                                                                  \n",
       "Chr4_+_7750398_AT4G13310_root_0           0.000000          4.508889   \n",
       "Chr4_+_11302680_AT4G21200_leaf_0          0.000000          0.000000   \n",
       "Chr4_-_10918262_AT4G20210_root_0          4.217049          4.559656   \n",
       "Chr5_-_26757236_AT5G67030_tair_0          2.275065          0.000000   \n",
       "Chr1_-_25046860_AT1G67080_tair_0          1.398959          1.377300   \n",
       "\n",
       "                                  M0004_1.02_FWD_5  M0004_1.02_FWD_6  \\\n",
       "index                                                                  \n",
       "Chr4_+_7750398_AT4G13310_root_0           9.438149          9.714371   \n",
       "Chr4_+_11302680_AT4G21200_leaf_0         12.846526         16.472290   \n",
       "Chr4_-_10918262_AT4G20210_root_0          5.156968          0.597312   \n",
       "Chr5_-_26757236_AT5G67030_tair_0          0.000000          0.189317   \n",
       "Chr1_-_25046860_AT1G67080_tair_0          2.470973          1.093673   \n",
       "\n",
       "                                  M0004_1.02_FWD_7  M0005_1.02_FWD_1  \\\n",
       "index                                                                  \n",
       "Chr4_+_7750398_AT4G13310_root_0          17.533581          5.501110   \n",
       "Chr4_+_11302680_AT4G21200_leaf_0          5.290287          2.406347   \n",
       "Chr4_-_10918262_AT4G20210_root_0          0.000000          0.000000   \n",
       "Chr5_-_26757236_AT5G67030_tair_0         22.804014          0.000000   \n",
       "Chr1_-_25046860_AT1G67080_tair_0          0.000000          0.000000   \n",
       "\n",
       "                                  M0005_1.02_FWD_2  M0005_1.02_FWD_3  ...  \\\n",
       "index                                                                 ...   \n",
       "Chr4_+_7750398_AT4G13310_root_0                0.0               0.0  ...   \n",
       "Chr4_+_11302680_AT4G21200_leaf_0               0.0               0.0  ...   \n",
       "Chr4_-_10918262_AT4G20210_root_0               0.0               0.0  ...   \n",
       "Chr5_-_26757236_AT5G67030_tair_0               0.0               0.0  ...   \n",
       "Chr1_-_25046860_AT1G67080_tair_0               0.0               0.0  ...   \n",
       "\n",
       "                                   GA_REV_2   GA_REV_3   GA_REV_4   GA_REV_5  \\\n",
       "index                                                                          \n",
       "Chr4_+_7750398_AT4G13310_root_0   11.805773   9.450124  12.967102   8.974781   \n",
       "Chr4_+_11302680_AT4G21200_leaf_0   0.824729   9.927819  16.496307   6.568488   \n",
       "Chr4_-_10918262_AT4G20210_root_0   2.222053  11.242960   9.343733   6.638287   \n",
       "Chr5_-_26757236_AT5G67030_tair_0   9.204328   3.095468   0.000000  11.282284   \n",
       "Chr1_-_25046860_AT1G67080_tair_0  11.599996  10.826384  11.891774  11.529227   \n",
       "\n",
       "                                   GA_REV_6   GA_REV_7  GCcontent  CAcontent  \\\n",
       "index                                                                          \n",
       "Chr4_+_7750398_AT4G13310_root_0   14.424215  13.597577      0.300      0.590   \n",
       "Chr4_+_11302680_AT4G21200_leaf_0   4.865940   4.865940      0.340      0.540   \n",
       "Chr4_-_10918262_AT4G20210_root_0  25.419486  18.781199      0.410      0.545   \n",
       "Chr5_-_26757236_AT5G67030_tair_0  13.337318  11.061596      0.425      0.495   \n",
       "Chr1_-_25046860_AT1G67080_tair_0  11.948718   8.528950      0.305      0.545   \n",
       "\n",
       "                                  GAcontent  class  \n",
       "index                                               \n",
       "Chr4_+_7750398_AT4G13310_root_0       0.580      1  \n",
       "Chr4_+_11302680_AT4G21200_leaf_0      0.430      1  \n",
       "Chr4_-_10918262_AT4G20210_root_0      0.475      1  \n",
       "Chr5_-_26757236_AT5G67030_tair_0      0.440      1  \n",
       "Chr1_-_25046860_AT1G67080_tair_0      0.550      1  \n",
       "\n",
       "[5 rows x 6115 columns]"
      ]
     },
     "execution_count": 2,
     "metadata": {},
     "output_type": "execute_result"
    }
   ],
   "source": [
    "dat_in_pth = \"../data/features.pkl\"\n",
    "dat_df = pd.read_pickle(dat_in_pth)\n",
    "\n",
    "results_dir = \"results\"\n",
    "seed = 8675309\n",
    "np.random.seed(seed)\n",
    "\n",
    "if not os.path.exists(results_dir):\n",
    "    os.makedirs(results_dir)\n",
    "\n",
    "training_set_tss_ids_pth = results_dir + \"/training_set_tss_ids.txt\"\n",
    "heldout_test_set_tss_ids_pth = results_dir + \"/heldout_test_set_tss_ids.txt\"\n",
    "crossval_results_pth = results_dir + \"/crossval_results.csv\"\n",
    "test_performance_pth = results_dir + \"/heldout_test_performance.csv\"\n",
    "coefs_pth = results_dir + \"/coefficients.csv\"\n",
    "\n",
    "dat_df.head()"
   ]
  },
  {
   "cell_type": "markdown",
   "metadata": {},
   "source": [
    "# Split data into train/test sets"
   ]
  },
  {
   "cell_type": "code",
   "execution_count": 23,
   "metadata": {},
   "outputs": [],
   "source": [
    "x_train, x_heldout, y_train, y_heldout = train_test_split(\n",
    "    dat_df.iloc[:, :-1], dat_df.iloc[:, -1], test_size=0.2, stratify=dat_df[\"class\"]\n",
    ")"
   ]
  },
  {
   "cell_type": "markdown",
   "metadata": {},
   "source": [
    "### Optionally save IDs"
   ]
  },
  {
   "cell_type": "code",
   "execution_count": null,
   "metadata": {},
   "outputs": [],
   "source": [
    "np.savetxt(training_set_tss_ids_pth, x_train.index.values, fmt=\"%s\")\n",
    "np.savetxt(heldout_test_set_tss_ids_pth, x_heldout.index.values, fmt=\"%s\")"
   ]
  },
  {
   "cell_type": "markdown",
   "metadata": {},
   "source": [
    "# Define model object"
   ]
  },
  {
   "cell_type": "code",
   "execution_count": 4,
   "metadata": {},
   "outputs": [],
   "source": [
    "model = Sequential()\n",
    "model.add(Dense(1, input_shape=(x_train.shape[1],), activation=\"sigmoid\"))\n",
    "model.compile(\n",
    "    optimizer=\"adam\", loss=\"binary_crossentropy\", metrics=[\"binary_accuracy\", \"AUC\"]\n",
    ")"
   ]
  },
  {
   "cell_type": "markdown",
   "metadata": {},
   "source": [
    "# Fit the model on training data"
   ]
  },
  {
   "cell_type": "code",
   "execution_count": 5,
   "metadata": {},
   "outputs": [
    {
     "name": "stdout",
     "output_type": "stream",
     "text": [
      "1/1 [==============================] - 0s 1ms/step - loss: 1.8782 - binary_accuracy: 0.7143 - auc: 0.8273\n",
      "1/1 [==============================] - 0s 898us/step - loss: 0.2321 - binary_accuracy: 0.9048 - auc: 1.0000\n",
      "1/1 [==============================] - 0s 938us/step - loss: 0.0024 - binary_accuracy: 1.0000 - auc: 1.0000\n",
      "1/1 [==============================] - 0s 961us/step - loss: 9.1182e-04 - binary_accuracy: 1.0000 - auc: 1.0000\n",
      "1/1 [==============================] - 0s 916us/step - loss: 0.0016 - binary_accuracy: 1.0000 - auc: 1.0000\n",
      "1/1 [==============================] - 0s 885us/step - loss: 0.0023 - binary_accuracy: 1.0000 - auc: 1.0000\n",
      "1/1 [==============================] - 0s 810us/step - loss: 0.0010 - binary_accuracy: 1.0000 - auc: 1.0000\n",
      "1/1 [==============================] - 0s 804us/step - loss: 7.3006e-04 - binary_accuracy: 1.0000 - auc: 1.0000\n",
      "1/1 [==============================] - 0s 1ms/step - loss: 0.0011 - binary_accuracy: 1.0000 - auc: 1.0000\n",
      "1/1 [==============================] - 0s 1ms/step - loss: 3.9675e-04 - binary_accuracy: 1.0000 - auc: 1.0000\n"
     ]
    }
   ],
   "source": [
    "n_cv_slices = 10\n",
    "\n",
    "for slice_num, (train_ids, test_ids) in enumerate(\n",
    "    StratifiedKFold(n_splits=n_cv_slices).split(x_train, y_train), 1\n",
    "):\n",
    "    slice_train_xs, slice_test_xs = x_train.iloc[train_ids], x_train.iloc[test_ids]\n",
    "    slice_train_ys, slice_test_ys = y_train.iloc[train_ids], y_train.iloc[test_ids]\n",
    "\n",
    "    model.fit(x=slice_train_xs, y=slice_train_ys, epochs=10, verbose=0)\n",
    "\n",
    "    model.evaluate(x=slice_test_xs, y=slice_test_ys)"
   ]
  },
  {
   "cell_type": "markdown",
   "metadata": {},
   "source": [
    "# Test the model"
   ]
  },
  {
   "cell_type": "code",
   "execution_count": 6,
   "metadata": {},
   "outputs": [
    {
     "name": "stdout",
     "output_type": "stream",
     "text": [
      "2/2 [==============================] - 0s 935us/step - loss: 2.2191 - binary_accuracy: 0.6346 - auc: 0.6709\n"
     ]
    },
    {
     "data": {
      "text/plain": [
       "[2.2190513610839844, 0.6346153616905212, 0.6708579659461975]"
      ]
     },
     "execution_count": 6,
     "metadata": {},
     "output_type": "execute_result"
    }
   ],
   "source": [
    "model.evaluate(x=x_heldout, y=y_heldout)"
   ]
  },
  {
   "cell_type": "markdown",
   "metadata": {},
   "source": [
    "# What-If Tool"
   ]
  },
  {
   "cell_type": "code",
   "execution_count": 24,
   "metadata": {},
   "outputs": [],
   "source": [
    "def df_to_examples(df, columns=None):\n",
    "    examples = []\n",
    "    if columns == None:\n",
    "        columns = df.columns.values.tolist()\n",
    "    for index, row in df.iterrows():\n",
    "        example = tf.train.Example()\n",
    "        for col in columns:\n",
    "            if row[col].dtype is np.dtype(np.int64):\n",
    "                example.features.feature[col].int64_list.value.append(int(row[col]))\n",
    "            elif row[col].dtype is np.dtype(np.float64):\n",
    "                example.features.feature[col].float_list.value.append(row[col])\n",
    "            else:\n",
    "                raise TypeError(\"Issue!!\")\n",
    "        examples.append(example)\n",
    "    return examples\n",
    "\n",
    "n_features = 10\n",
    "\n",
    "wit_df = pd.concat([x_train.iloc[:, :n_features], y_train], axis=1)\n",
    "wit_data = df_to_examples(wit_df)"
   ]
  },
  {
   "cell_type": "code",
   "execution_count": 31,
   "metadata": {},
   "outputs": [
    {
     "data": {
      "text/html": [
       "<style>.container { width:100% !important; }</style>"
      ],
      "text/plain": [
       "<IPython.core.display.HTML object>"
      ]
     },
     "metadata": {},
     "output_type": "display_data"
    },
    {
     "data": {
      "application/vnd.jupyter.widget-view+json": {
       "model_id": "bf2227abec63460d94e8c50e2ba81dfa",
       "version_major": 2,
       "version_minor": 0
      },
      "text/plain": [
       "WitWidget(config={'model_type': 'classification', 'label_vocab': [], 'are_sequence_examples': False, 'inferenc…"
      ]
     },
     "metadata": {},
     "output_type": "display_data"
    }
   ],
   "source": [
    "config_builder = (\n",
    "    WitConfigBuilder(wit_data)\n",
    "#     .set_custom_predict_fn(model.predict) # this doesn't work :(\n",
    ")\n",
    "WitWidget(config_builder, height=500)"
   ]
  },
  {
   "cell_type": "markdown",
   "metadata": {},
   "source": [
    "# Compute performance metrics for predictions on the test set"
   ]
  },
  {
   "cell_type": "code",
   "execution_count": null,
   "metadata": {},
   "outputs": [],
   "source": [
    "y_true = y_heldout.values\n",
    "y_prediction_probabilities = model.predict(x_heldout)\n",
    "\n",
    "roc_curve_df = (\n",
    "    pd.DataFrame(roc_curve(y_true, y_prediction_probabilities))\n",
    "    .T.rename(columns={0: \"FPR\", 1: \"TPR\", 2: \"threshold\"})\n",
    "    .drop(index=0)\n",
    "    .reset_index(drop=True)\n",
    ")\n",
    "roc_curve_df[\"Y\"] = roc_curve_df[\"TPR\"] - roc_curve_df[\"FPR\"]\n",
    "youden_T = roc_curve_df.iloc[roc_curve_df[\"Y\"].idxmax()][\"threshold\"]\n",
    "\n",
    "y_pred_youden = np.where(y_prediction_probabilities >= youden_T, 1, 0)\n",
    "\n",
    "heldout_perf_roc = roc_auc_score(y_true, y_prediction_probabilities)\n",
    "heldout_perf_prc = average_precision_score(\n",
    "    y_true, y_prediction_probabilities\n",
    ")\n",
    "\n",
    "confusion_mat = confusion_matrix(y_true, y_pred_youden)\n",
    "TN = confusion_mat[0][0]\n",
    "FP = confusion_mat[0][1]\n",
    "FN = confusion_mat[1][0]\n",
    "TP = confusion_mat[1][1]\n",
    "\n",
    "# Sensitivity, hit rate, recall, or true positive rate\n",
    "TPR = TP / (TP + FN)\n",
    "# Specificity or true negative rate\n",
    "TNR = TN / (TN + FP)\n",
    "# Precision or positive predictive value\n",
    "PPV = TP / (TP + FP)\n",
    "\n",
    "heldout_perf_f1 = 2 * ((PPV * TPR) / (PPV + TPR))\n",
    "\n",
    "perf_metrics = pd.Series({\n",
    "    \"auROC\": heldout_perf_roc,\n",
    "    \"auPRC\": heldout_perf_prc,\n",
    "    \"youden_T\": youden_T,\n",
    "    \"sensitivity\": TPR,\n",
    "    \"specificity\": TNR,\n",
    "    \"precision\": PPV,\n",
    "    \"f1\": heldout_perf_f1,\n",
    "    \"seed\": seed,\n",
    "})\n",
    "perf_metrics"
   ]
  },
  {
   "cell_type": "code",
   "execution_count": null,
   "metadata": {},
   "outputs": [],
   "source": [
    "coefficients = pd.Series(model., columns=dat_df.columns[:-1])\n",
    "coefficients"
   ]
  },
  {
   "cell_type": "markdown",
   "metadata": {},
   "source": [
    "# Save files"
   ]
  },
  {
   "cell_type": "code",
   "execution_count": null,
   "metadata": {},
   "outputs": [],
   "source": [
    "# save metrics\n",
    "perf_metrics.to_csv(test_performance_pth, header=True)\n",
    "\n",
    "# save coefficient values\n",
    "coefficients.to_csv(coefs_pth, header=True)"
   ]
  },
  {
   "cell_type": "code",
   "execution_count": null,
   "metadata": {},
   "outputs": [],
   "source": []
  }
 ],
 "metadata": {
  "kernelspec": {
   "display_name": "Python 3",
   "language": "python",
   "name": "python3"
  },
  "language_info": {
   "codemirror_mode": {
    "name": "ipython",
    "version": 3
   },
   "file_extension": ".py",
   "mimetype": "text/x-python",
   "name": "python",
   "nbconvert_exporter": "python",
   "pygments_lexer": "ipython3",
   "version": "3.8.6"
  }
 },
 "nbformat": 4,
 "nbformat_minor": 4
}
