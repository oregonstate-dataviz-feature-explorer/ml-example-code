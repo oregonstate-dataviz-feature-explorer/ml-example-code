{
 "cells": [
  {
   "cell_type": "markdown",
   "metadata": {},
   "source": [
    "# Import required modules\n",
    "Make sure you installed the conda environment and activated it first by running:\n",
    "\n",
    "```\n",
    "conda env create -f env.yml\n",
    "```\n",
    "\n",
    "Then you can choose that environment for the jupyter kernel."
   ]
  },
  {
   "cell_type": "markdown",
   "metadata": {},
   "source": [
    "## Important!!\n",
    "If you want to use the witwidget and haven't already run these commands you must do so!\n",
    "\n",
    "```\n",
    "jupyter nbextension install --py --symlink --sys-prefix witwidget\n",
    "jupyter nbextension enable --py --sys-prefix witwidget\n",
    "```"
   ]
  },
  {
   "cell_type": "code",
   "execution_count": 1,
   "metadata": {},
   "outputs": [],
   "source": [
    "import multiprocessing\n",
    "import os\n",
    "\n",
    "import numpy as np\n",
    "import pandas as pd\n",
    "import shap\n",
    "import tensorflow as tf\n",
    "from sklearn import linear_model, metrics, model_selection"
   ]
  },
  {
   "cell_type": "markdown",
   "metadata": {},
   "source": [
    "# Load data and make required directories"
   ]
  },
  {
   "cell_type": "code",
   "execution_count": 2,
   "metadata": {},
   "outputs": [
    {
     "data": {
      "text/html": [
       "<div>\n",
       "<style scoped>\n",
       "    .dataframe tbody tr th:only-of-type {\n",
       "        vertical-align: middle;\n",
       "    }\n",
       "\n",
       "    .dataframe tbody tr th {\n",
       "        vertical-align: top;\n",
       "    }\n",
       "\n",
       "    .dataframe thead th {\n",
       "        text-align: right;\n",
       "    }\n",
       "</style>\n",
       "<table border=\"1\" class=\"dataframe\">\n",
       "  <thead>\n",
       "    <tr style=\"text-align: right;\">\n",
       "      <th></th>\n",
       "      <th>M0004_1.02_FWD_1</th>\n",
       "      <th>M0004_1.02_FWD_2</th>\n",
       "      <th>M0004_1.02_FWD_3</th>\n",
       "      <th>M0004_1.02_FWD_4</th>\n",
       "      <th>M0004_1.02_FWD_5</th>\n",
       "      <th>M0004_1.02_FWD_6</th>\n",
       "      <th>M0004_1.02_FWD_7</th>\n",
       "      <th>M0005_1.02_FWD_1</th>\n",
       "      <th>M0005_1.02_FWD_2</th>\n",
       "      <th>M0005_1.02_FWD_3</th>\n",
       "      <th>...</th>\n",
       "      <th>GA_REV_2</th>\n",
       "      <th>GA_REV_3</th>\n",
       "      <th>GA_REV_4</th>\n",
       "      <th>GA_REV_5</th>\n",
       "      <th>GA_REV_6</th>\n",
       "      <th>GA_REV_7</th>\n",
       "      <th>GCcontent</th>\n",
       "      <th>CAcontent</th>\n",
       "      <th>GAcontent</th>\n",
       "      <th>class</th>\n",
       "    </tr>\n",
       "    <tr>\n",
       "      <th>index</th>\n",
       "      <th></th>\n",
       "      <th></th>\n",
       "      <th></th>\n",
       "      <th></th>\n",
       "      <th></th>\n",
       "      <th></th>\n",
       "      <th></th>\n",
       "      <th></th>\n",
       "      <th></th>\n",
       "      <th></th>\n",
       "      <th></th>\n",
       "      <th></th>\n",
       "      <th></th>\n",
       "      <th></th>\n",
       "      <th></th>\n",
       "      <th></th>\n",
       "      <th></th>\n",
       "      <th></th>\n",
       "      <th></th>\n",
       "      <th></th>\n",
       "      <th></th>\n",
       "    </tr>\n",
       "  </thead>\n",
       "  <tbody>\n",
       "    <tr>\n",
       "      <th>Chr4_+_7750398_AT4G13310_root_0</th>\n",
       "      <td>1.440441</td>\n",
       "      <td>0.000000</td>\n",
       "      <td>0.000000</td>\n",
       "      <td>4.508889</td>\n",
       "      <td>9.438149</td>\n",
       "      <td>9.714371</td>\n",
       "      <td>17.533581</td>\n",
       "      <td>5.501110</td>\n",
       "      <td>0.0</td>\n",
       "      <td>0.0</td>\n",
       "      <td>...</td>\n",
       "      <td>11.805773</td>\n",
       "      <td>9.450124</td>\n",
       "      <td>12.967102</td>\n",
       "      <td>8.974781</td>\n",
       "      <td>14.424215</td>\n",
       "      <td>13.597577</td>\n",
       "      <td>0.300</td>\n",
       "      <td>0.590</td>\n",
       "      <td>0.580</td>\n",
       "      <td>1</td>\n",
       "    </tr>\n",
       "    <tr>\n",
       "      <th>Chr4_+_11302680_AT4G21200_leaf_0</th>\n",
       "      <td>11.111250</td>\n",
       "      <td>11.111250</td>\n",
       "      <td>0.000000</td>\n",
       "      <td>0.000000</td>\n",
       "      <td>12.846526</td>\n",
       "      <td>16.472290</td>\n",
       "      <td>5.290287</td>\n",
       "      <td>2.406347</td>\n",
       "      <td>0.0</td>\n",
       "      <td>0.0</td>\n",
       "      <td>...</td>\n",
       "      <td>0.824729</td>\n",
       "      <td>9.927819</td>\n",
       "      <td>16.496307</td>\n",
       "      <td>6.568488</td>\n",
       "      <td>4.865940</td>\n",
       "      <td>4.865940</td>\n",
       "      <td>0.340</td>\n",
       "      <td>0.540</td>\n",
       "      <td>0.430</td>\n",
       "      <td>1</td>\n",
       "    </tr>\n",
       "    <tr>\n",
       "      <th>Chr4_-_10918262_AT4G20210_root_0</th>\n",
       "      <td>0.293377</td>\n",
       "      <td>4.510425</td>\n",
       "      <td>4.217049</td>\n",
       "      <td>4.559656</td>\n",
       "      <td>5.156968</td>\n",
       "      <td>0.597312</td>\n",
       "      <td>0.000000</td>\n",
       "      <td>0.000000</td>\n",
       "      <td>0.0</td>\n",
       "      <td>0.0</td>\n",
       "      <td>...</td>\n",
       "      <td>2.222053</td>\n",
       "      <td>11.242960</td>\n",
       "      <td>9.343733</td>\n",
       "      <td>6.638287</td>\n",
       "      <td>25.419486</td>\n",
       "      <td>18.781199</td>\n",
       "      <td>0.410</td>\n",
       "      <td>0.545</td>\n",
       "      <td>0.475</td>\n",
       "      <td>1</td>\n",
       "    </tr>\n",
       "    <tr>\n",
       "      <th>Chr5_-_26757236_AT5G67030_tair_0</th>\n",
       "      <td>0.555420</td>\n",
       "      <td>2.275065</td>\n",
       "      <td>2.275065</td>\n",
       "      <td>0.000000</td>\n",
       "      <td>0.000000</td>\n",
       "      <td>0.189317</td>\n",
       "      <td>22.804014</td>\n",
       "      <td>0.000000</td>\n",
       "      <td>0.0</td>\n",
       "      <td>0.0</td>\n",
       "      <td>...</td>\n",
       "      <td>9.204328</td>\n",
       "      <td>3.095468</td>\n",
       "      <td>0.000000</td>\n",
       "      <td>11.282284</td>\n",
       "      <td>13.337318</td>\n",
       "      <td>11.061596</td>\n",
       "      <td>0.425</td>\n",
       "      <td>0.495</td>\n",
       "      <td>0.440</td>\n",
       "      <td>1</td>\n",
       "    </tr>\n",
       "    <tr>\n",
       "      <th>Chr1_-_25046860_AT1G67080_tair_0</th>\n",
       "      <td>0.000000</td>\n",
       "      <td>1.398959</td>\n",
       "      <td>1.398959</td>\n",
       "      <td>1.377300</td>\n",
       "      <td>2.470973</td>\n",
       "      <td>1.093673</td>\n",
       "      <td>0.000000</td>\n",
       "      <td>0.000000</td>\n",
       "      <td>0.0</td>\n",
       "      <td>0.0</td>\n",
       "      <td>...</td>\n",
       "      <td>11.599996</td>\n",
       "      <td>10.826384</td>\n",
       "      <td>11.891774</td>\n",
       "      <td>11.529227</td>\n",
       "      <td>11.948718</td>\n",
       "      <td>8.528950</td>\n",
       "      <td>0.305</td>\n",
       "      <td>0.545</td>\n",
       "      <td>0.550</td>\n",
       "      <td>1</td>\n",
       "    </tr>\n",
       "  </tbody>\n",
       "</table>\n",
       "<p>5 rows × 6115 columns</p>\n",
       "</div>"
      ],
      "text/plain": [
       "                                  M0004_1.02_FWD_1  M0004_1.02_FWD_2  \\\n",
       "index                                                                  \n",
       "Chr4_+_7750398_AT4G13310_root_0           1.440441          0.000000   \n",
       "Chr4_+_11302680_AT4G21200_leaf_0         11.111250         11.111250   \n",
       "Chr4_-_10918262_AT4G20210_root_0          0.293377          4.510425   \n",
       "Chr5_-_26757236_AT5G67030_tair_0          0.555420          2.275065   \n",
       "Chr1_-_25046860_AT1G67080_tair_0          0.000000          1.398959   \n",
       "\n",
       "                                  M0004_1.02_FWD_3  M0004_1.02_FWD_4  \\\n",
       "index                                                                  \n",
       "Chr4_+_7750398_AT4G13310_root_0           0.000000          4.508889   \n",
       "Chr4_+_11302680_AT4G21200_leaf_0          0.000000          0.000000   \n",
       "Chr4_-_10918262_AT4G20210_root_0          4.217049          4.559656   \n",
       "Chr5_-_26757236_AT5G67030_tair_0          2.275065          0.000000   \n",
       "Chr1_-_25046860_AT1G67080_tair_0          1.398959          1.377300   \n",
       "\n",
       "                                  M0004_1.02_FWD_5  M0004_1.02_FWD_6  \\\n",
       "index                                                                  \n",
       "Chr4_+_7750398_AT4G13310_root_0           9.438149          9.714371   \n",
       "Chr4_+_11302680_AT4G21200_leaf_0         12.846526         16.472290   \n",
       "Chr4_-_10918262_AT4G20210_root_0          5.156968          0.597312   \n",
       "Chr5_-_26757236_AT5G67030_tair_0          0.000000          0.189317   \n",
       "Chr1_-_25046860_AT1G67080_tair_0          2.470973          1.093673   \n",
       "\n",
       "                                  M0004_1.02_FWD_7  M0005_1.02_FWD_1  \\\n",
       "index                                                                  \n",
       "Chr4_+_7750398_AT4G13310_root_0          17.533581          5.501110   \n",
       "Chr4_+_11302680_AT4G21200_leaf_0          5.290287          2.406347   \n",
       "Chr4_-_10918262_AT4G20210_root_0          0.000000          0.000000   \n",
       "Chr5_-_26757236_AT5G67030_tair_0         22.804014          0.000000   \n",
       "Chr1_-_25046860_AT1G67080_tair_0          0.000000          0.000000   \n",
       "\n",
       "                                  M0005_1.02_FWD_2  M0005_1.02_FWD_3  ...  \\\n",
       "index                                                                 ...   \n",
       "Chr4_+_7750398_AT4G13310_root_0                0.0               0.0  ...   \n",
       "Chr4_+_11302680_AT4G21200_leaf_0               0.0               0.0  ...   \n",
       "Chr4_-_10918262_AT4G20210_root_0               0.0               0.0  ...   \n",
       "Chr5_-_26757236_AT5G67030_tair_0               0.0               0.0  ...   \n",
       "Chr1_-_25046860_AT1G67080_tair_0               0.0               0.0  ...   \n",
       "\n",
       "                                   GA_REV_2   GA_REV_3   GA_REV_4   GA_REV_5  \\\n",
       "index                                                                          \n",
       "Chr4_+_7750398_AT4G13310_root_0   11.805773   9.450124  12.967102   8.974781   \n",
       "Chr4_+_11302680_AT4G21200_leaf_0   0.824729   9.927819  16.496307   6.568488   \n",
       "Chr4_-_10918262_AT4G20210_root_0   2.222053  11.242960   9.343733   6.638287   \n",
       "Chr5_-_26757236_AT5G67030_tair_0   9.204328   3.095468   0.000000  11.282284   \n",
       "Chr1_-_25046860_AT1G67080_tair_0  11.599996  10.826384  11.891774  11.529227   \n",
       "\n",
       "                                   GA_REV_6   GA_REV_7  GCcontent  CAcontent  \\\n",
       "index                                                                          \n",
       "Chr4_+_7750398_AT4G13310_root_0   14.424215  13.597577      0.300      0.590   \n",
       "Chr4_+_11302680_AT4G21200_leaf_0   4.865940   4.865940      0.340      0.540   \n",
       "Chr4_-_10918262_AT4G20210_root_0  25.419486  18.781199      0.410      0.545   \n",
       "Chr5_-_26757236_AT5G67030_tair_0  13.337318  11.061596      0.425      0.495   \n",
       "Chr1_-_25046860_AT1G67080_tair_0  11.948718   8.528950      0.305      0.545   \n",
       "\n",
       "                                  GAcontent  class  \n",
       "index                                               \n",
       "Chr4_+_7750398_AT4G13310_root_0       0.580      1  \n",
       "Chr4_+_11302680_AT4G21200_leaf_0      0.430      1  \n",
       "Chr4_-_10918262_AT4G20210_root_0      0.475      1  \n",
       "Chr5_-_26757236_AT5G67030_tair_0      0.440      1  \n",
       "Chr1_-_25046860_AT1G67080_tair_0      0.550      1  \n",
       "\n",
       "[5 rows x 6115 columns]"
      ]
     },
     "execution_count": 2,
     "metadata": {},
     "output_type": "execute_result"
    }
   ],
   "source": [
    "dat_in_pth = \"../data/features.pkl\"\n",
    "dat_df = pd.read_pickle(dat_in_pth)\n",
    "\n",
    "results_dir = \"results\"\n",
    "seed = 8675309\n",
    "np.random.seed(seed)\n",
    "\n",
    "if not os.path.exists(results_dir):\n",
    "    os.makedirs(results_dir)\n",
    "\n",
    "training_set_tss_ids_pth = results_dir + \"/training_set_tss_ids.txt\"\n",
    "heldout_test_set_tss_ids_pth = results_dir + \"/heldout_test_set_tss_ids.txt\"\n",
    "crossval_results_pth = results_dir + \"/crossval_results.csv\"\n",
    "test_performance_pth = results_dir + \"/heldout_test_performance.csv\"\n",
    "coefs_pth = results_dir + \"/coefficients.csv\"\n",
    "\n",
    "dat_df.head()"
   ]
  },
  {
   "cell_type": "markdown",
   "metadata": {},
   "source": [
    "# Split data into train/test sets"
   ]
  },
  {
   "cell_type": "code",
   "execution_count": 3,
   "metadata": {},
   "outputs": [],
   "source": [
    "train, heldout_test = model_selection.train_test_split(\n",
    "    dat_df, test_size=0.2, stratify=dat_df[\"class\"], random_state=seed\n",
    ")\n",
    "\n",
    "np.savetxt(training_set_tss_ids_pth, train.index.values, fmt=\"%s\")\n",
    "np.savetxt(heldout_test_set_tss_ids_pth, heldout_test.index.values, fmt=\"%s\")"
   ]
  },
  {
   "cell_type": "markdown",
   "metadata": {},
   "source": [
    "# Define model object\n",
    "* Change `n_procs` to utilize more/fewer processors on your machine"
   ]
  },
  {
   "cell_type": "code",
   "execution_count": 4,
   "metadata": {},
   "outputs": [],
   "source": [
    "n_procs = 10\n",
    "\n",
    "log_cv = linear_model.LogisticRegressionCV(\n",
    "    solver=\"liblinear\",\n",
    "    Cs=np.logspace(-4, 4, 100),\n",
    "    cv=5,\n",
    "    penalty=\"l1\",\n",
    "    n_jobs=n_procs,\n",
    "    refit=True,\n",
    "    scoring=\"average_precision\",\n",
    "    random_state=seed,\n",
    ")"
   ]
  },
  {
   "cell_type": "markdown",
   "metadata": {},
   "source": [
    "# Fit the model on training data"
   ]
  },
  {
   "cell_type": "code",
   "execution_count": 5,
   "metadata": {},
   "outputs": [
    {
     "data": {
      "text/plain": [
       "LogisticRegressionCV(Cs=array([1.00000000e-04, 1.20450354e-04, 1.45082878e-04, 1.74752840e-04,\n",
       "       2.10490414e-04, 2.53536449e-04, 3.05385551e-04, 3.67837977e-04,\n",
       "       4.43062146e-04, 5.33669923e-04, 6.42807312e-04, 7.74263683e-04,\n",
       "       9.32603347e-04, 1.12332403e-03, 1.35304777e-03, 1.62975083e-03,\n",
       "       1.96304065e-03, 2.36448941e-03, 2.84803587e-03, 3.43046929e-03,\n",
       "       4.13201240e-03, 4.97...\n",
       "       2.91505306e+02, 3.51119173e+02, 4.22924287e+02, 5.09413801e+02,\n",
       "       6.13590727e+02, 7.39072203e+02, 8.90215085e+02, 1.07226722e+03,\n",
       "       1.29154967e+03, 1.55567614e+03, 1.87381742e+03, 2.25701972e+03,\n",
       "       2.71858824e+03, 3.27454916e+03, 3.94420606e+03, 4.75081016e+03,\n",
       "       5.72236766e+03, 6.89261210e+03, 8.30217568e+03, 1.00000000e+04]),\n",
       "                     cv=5, n_jobs=10, penalty='l1', random_state=8675309,\n",
       "                     scoring='average_precision', solver='liblinear')"
      ]
     },
     "execution_count": 5,
     "metadata": {},
     "output_type": "execute_result"
    }
   ],
   "source": [
    "log_cv.fit(train.iloc[:, :-1], y=train[\"class\"])"
   ]
  },
  {
   "cell_type": "markdown",
   "metadata": {},
   "source": [
    "# Test the model"
   ]
  },
  {
   "cell_type": "code",
   "execution_count": 6,
   "metadata": {},
   "outputs": [],
   "source": [
    "y_true, y_prediction_probabilities = (\n",
    "    heldout_test[\"class\"],\n",
    "    log_cv.predict_proba(heldout_test.iloc[:, :-1]),\n",
    ")"
   ]
  },
  {
   "cell_type": "markdown",
   "metadata": {},
   "source": [
    "# SHAP Explanations"
   ]
  },
  {
   "cell_type": "code",
   "execution_count": 8,
   "metadata": {},
   "outputs": [],
   "source": [
    "explainer = shap.LinearExplainer(log_cv, train.iloc[:, :-1])\n",
    "shap_values = explainer.shap_values(heldout_test.iloc[:, :-1])"
   ]
  },
  {
   "cell_type": "code",
   "execution_count": 13,
   "metadata": {},
   "outputs": [
    {
     "data": {
      "text/plain": [
       "(52, 6115)"
      ]
     },
     "execution_count": 13,
     "metadata": {},
     "output_type": "execute_result"
    }
   ],
   "source": [
    "heldout_test.shape"
   ]
  },
  {
   "cell_type": "markdown",
   "metadata": {},
   "source": [
    "## SHAP Values for entire test set"
   ]
  },
  {
   "cell_type": "code",
   "execution_count": 10,
   "metadata": {},
   "outputs": [
    {
     "data": {
      "image/png": "[encoded data removed]",
      "text/plain": [
       "<Figure size 576x684 with 2 Axes>"
      ]
     },
     "metadata": {
      "needs_background": "light"
     },
     "output_type": "display_data"
    }
   ],
   "source": [
    "shap.summary_plot(shap_values, heldout_test.iloc[:, :-1])"
   ]
  },
  {
   "cell_type": "markdown",
   "metadata": {},
   "source": [
    "## SHAP values for single instance"
   ]
  },
  {
   "cell_type": "code",
   "execution_count": 1,
   "metadata": {},
   "outputs": [
    {
     "ename": "NameError",
     "evalue": "name 'shap' is not defined",
     "output_type": "error",
     "traceback": [
      "\u001b[0;31m---------------------------------------------------------------------------\u001b[0m",
      "\u001b[0;31mNameError\u001b[0m                                 Traceback (most recent call last)",
      "\u001b[0;32m<ipython-input-1-c1dec9aa528c>\u001b[0m in \u001b[0;36m<module>\u001b[0;34m\u001b[0m\n\u001b[1;32m      1\u001b[0m \u001b[0mind\u001b[0m \u001b[0;34m=\u001b[0m \u001b[0;36m0\u001b[0m\u001b[0;34m\u001b[0m\u001b[0;34m\u001b[0m\u001b[0m\n\u001b[0;32m----> 2\u001b[0;31m \u001b[0mshap\u001b[0m\u001b[0;34m.\u001b[0m\u001b[0minitjs\u001b[0m\u001b[0;34m(\u001b[0m\u001b[0;34m)\u001b[0m\u001b[0;34m\u001b[0m\u001b[0;34m\u001b[0m\u001b[0m\n\u001b[0m\u001b[1;32m      3\u001b[0m \u001b[0mshap\u001b[0m\u001b[0;34m.\u001b[0m\u001b[0mforce_plot\u001b[0m\u001b[0;34m(\u001b[0m\u001b[0mexplainer\u001b[0m\u001b[0;34m.\u001b[0m\u001b[0mexpected_value\u001b[0m\u001b[0;34m,\u001b[0m \u001b[0mshap_values\u001b[0m\u001b[0;34m[\u001b[0m\u001b[0mind\u001b[0m\u001b[0;34m]\u001b[0m\u001b[0;34m,\u001b[0m \u001b[0mheldout_test\u001b[0m\u001b[0;34m.\u001b[0m\u001b[0miloc\u001b[0m\u001b[0;34m[\u001b[0m\u001b[0mind\u001b[0m\u001b[0;34m,\u001b[0m \u001b[0;34m:\u001b[0m\u001b[0;34m-\u001b[0m\u001b[0;36m1\u001b[0m\u001b[0;34m]\u001b[0m\u001b[0;34m)\u001b[0m\u001b[0;34m\u001b[0m\u001b[0;34m\u001b[0m\u001b[0m\n",
      "\u001b[0;31mNameError\u001b[0m: name 'shap' is not defined"
     ]
    }
   ],
   "source": [
    "ind = 0\n",
    "shap.initjs()\n",
    "shap.force_plot(explainer.expected_value, shap_values[ind], heldout_test.iloc[ind, :-1])"
   ]
  },
  {
   "cell_type": "markdown",
   "metadata": {},
   "source": [
    "# Compute performance metrics for predictions on the test set"
   ]
  },
  {
   "cell_type": "code",
   "execution_count": 7,
   "metadata": {},
   "outputs": [
    {
     "data": {
      "text/plain": [
       "C              4.750810e+03\n",
       "auROC          6.952663e-01\n",
       "auPRC          6.470624e-01\n",
       "youden_T       5.342641e-01\n",
       "sensitivity    7.307692e-01\n",
       "specificity    6.538462e-01\n",
       "precision      6.785714e-01\n",
       "f1             7.037037e-01\n",
       "seed           8.675309e+06\n",
       "dtype: float64"
      ]
     },
     "execution_count": 7,
     "metadata": {},
     "output_type": "execute_result"
    }
   ],
   "source": [
    "roc_curve_df = (\n",
    "    pd.DataFrame(metrics.roc_curve(y_true, y_prediction_probabilities[:, 1]))\n",
    "    .T.rename(columns={0: \"FPR\", 1: \"TPR\", 2: \"threshold\"})\n",
    "    .drop(index=0)\n",
    "    .reset_index(drop=True)\n",
    ")\n",
    "roc_curve_df[\"Y\"] = roc_curve_df[\"TPR\"] - roc_curve_df[\"FPR\"]\n",
    "youden_T = roc_curve_df.iloc[roc_curve_df[\"Y\"].idxmax()][\"threshold\"]\n",
    "\n",
    "y_pred_youden = np.where(y_prediction_probabilities[:, 1] >= youden_T, 1, 0)\n",
    "\n",
    "heldout_perf_roc = metrics.roc_auc_score(y_true, y_prediction_probabilities[:, 1])\n",
    "heldout_perf_prc = metrics.average_precision_score(\n",
    "    y_true, y_prediction_probabilities[:, 1]\n",
    ")\n",
    "\n",
    "confusion_mat = metrics.confusion_matrix(y_true, y_pred_youden)\n",
    "TN = confusion_mat[0][0]\n",
    "FP = confusion_mat[0][1]\n",
    "FN = confusion_mat[1][0]\n",
    "TP = confusion_mat[1][1]\n",
    "\n",
    "# Sensitivity, hit rate, recall, or true positive rate\n",
    "TPR = TP / (TP + FN)\n",
    "# Specificity or true negative rate\n",
    "TNR = TN / (TN + FP)\n",
    "# Precision or positive predictive value\n",
    "PPV = TP / (TP + FP)\n",
    "\n",
    "heldout_perf_f1 = 2 * ((PPV * TPR) / (PPV + TPR))\n",
    "\n",
    "perf_metrics = pd.Series({\n",
    "    \"C\": log_cv.C_[0],\n",
    "    \"auROC\": heldout_perf_roc,\n",
    "    \"auPRC\": heldout_perf_prc,\n",
    "    \"youden_T\": youden_T,\n",
    "    \"sensitivity\": TPR,\n",
    "    \"specificity\": TNR,\n",
    "    \"precision\": PPV,\n",
    "    \"f1\": heldout_perf_f1,\n",
    "    \"seed\": seed,\n",
    "})\n",
    "perf_metrics"
   ]
  },
  {
   "cell_type": "code",
   "execution_count": 8,
   "metadata": {},
   "outputs": [
    {
     "data": {
      "text/html": [
       "<div>\n",
       "<style scoped>\n",
       "    .dataframe tbody tr th:only-of-type {\n",
       "        vertical-align: middle;\n",
       "    }\n",
       "\n",
       "    .dataframe tbody tr th {\n",
       "        vertical-align: top;\n",
       "    }\n",
       "\n",
       "    .dataframe thead th {\n",
       "        text-align: right;\n",
       "    }\n",
       "</style>\n",
       "<table border=\"1\" class=\"dataframe\">\n",
       "  <thead>\n",
       "    <tr style=\"text-align: right;\">\n",
       "      <th></th>\n",
       "      <th>M0004_1.02_FWD_1</th>\n",
       "      <th>M0004_1.02_FWD_2</th>\n",
       "      <th>M0004_1.02_FWD_3</th>\n",
       "      <th>M0004_1.02_FWD_4</th>\n",
       "      <th>M0004_1.02_FWD_5</th>\n",
       "      <th>M0004_1.02_FWD_6</th>\n",
       "      <th>M0004_1.02_FWD_7</th>\n",
       "      <th>M0005_1.02_FWD_1</th>\n",
       "      <th>M0005_1.02_FWD_2</th>\n",
       "      <th>M0005_1.02_FWD_3</th>\n",
       "      <th>...</th>\n",
       "      <th>GA_REV_1</th>\n",
       "      <th>GA_REV_2</th>\n",
       "      <th>GA_REV_3</th>\n",
       "      <th>GA_REV_4</th>\n",
       "      <th>GA_REV_5</th>\n",
       "      <th>GA_REV_6</th>\n",
       "      <th>GA_REV_7</th>\n",
       "      <th>GCcontent</th>\n",
       "      <th>CAcontent</th>\n",
       "      <th>GAcontent</th>\n",
       "    </tr>\n",
       "  </thead>\n",
       "  <tbody>\n",
       "    <tr>\n",
       "      <th>0</th>\n",
       "      <td>0.000448</td>\n",
       "      <td>0.0</td>\n",
       "      <td>-0.007917</td>\n",
       "      <td>-0.001143</td>\n",
       "      <td>0.004216</td>\n",
       "      <td>-0.007482</td>\n",
       "      <td>-0.004137</td>\n",
       "      <td>0.0</td>\n",
       "      <td>-0.000461</td>\n",
       "      <td>-0.039019</td>\n",
       "      <td>...</td>\n",
       "      <td>0.004723</td>\n",
       "      <td>-0.002895</td>\n",
       "      <td>-0.00155</td>\n",
       "      <td>0.002511</td>\n",
       "      <td>0.004984</td>\n",
       "      <td>0.006744</td>\n",
       "      <td>0.002118</td>\n",
       "      <td>0.0</td>\n",
       "      <td>0.0</td>\n",
       "      <td>0.0</td>\n",
       "    </tr>\n",
       "  </tbody>\n",
       "</table>\n",
       "<p>1 rows × 6114 columns</p>\n",
       "</div>"
      ],
      "text/plain": [
       "   M0004_1.02_FWD_1  M0004_1.02_FWD_2  M0004_1.02_FWD_3  M0004_1.02_FWD_4  \\\n",
       "0          0.000448               0.0         -0.007917         -0.001143   \n",
       "\n",
       "   M0004_1.02_FWD_5  M0004_1.02_FWD_6  M0004_1.02_FWD_7  M0005_1.02_FWD_1  \\\n",
       "0          0.004216         -0.007482         -0.004137               0.0   \n",
       "\n",
       "   M0005_1.02_FWD_2  M0005_1.02_FWD_3  ...  GA_REV_1  GA_REV_2  GA_REV_3  \\\n",
       "0         -0.000461         -0.039019  ...  0.004723 -0.002895  -0.00155   \n",
       "\n",
       "   GA_REV_4  GA_REV_5  GA_REV_6  GA_REV_7  GCcontent  CAcontent  GAcontent  \n",
       "0  0.002511  0.004984  0.006744  0.002118        0.0        0.0        0.0  \n",
       "\n",
       "[1 rows x 6114 columns]"
      ]
     },
     "execution_count": 8,
     "metadata": {},
     "output_type": "execute_result"
    }
   ],
   "source": [
    "coefficients = pd.DataFrame(log_cv.coef_, columns=dat_df.columns[:-1])\n",
    "coefficients"
   ]
  },
  {
   "cell_type": "markdown",
   "metadata": {},
   "source": [
    "# Save files"
   ]
  },
  {
   "cell_type": "code",
   "execution_count": 9,
   "metadata": {},
   "outputs": [],
   "source": [
    "# save metrics\n",
    "perf_metrics.to_csv(test_performance_pth, header=True)\n",
    "\n",
    "# save coefficient values\n",
    "coefficients.to_csv(coefs_pth, header=True)"
   ]
  },
  {
   "cell_type": "code",
   "execution_count": null,
   "metadata": {},
   "outputs": [],
   "source": []
  }
 ],
 "metadata": {
  "kernelspec": {
   "display_name": "Python 3",
   "language": "python",
   "name": "python3"
  },
  "language_info": {
   "codemirror_mode": {
    "name": "ipython",
    "version": 3
   },
   "file_extension": ".py",
   "mimetype": "text/x-python",
   "name": "python",
   "nbconvert_exporter": "python",
   "pygments_lexer": "ipython3",
   "version": "3.8.6"
  }
 },
 "nbformat": 4,
 "nbformat_minor": 4
}
